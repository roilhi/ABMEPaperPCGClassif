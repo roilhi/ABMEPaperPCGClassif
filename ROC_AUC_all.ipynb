{
 "cells": [
  {
   "cell_type": "code",
   "execution_count": null,
   "metadata": {},
   "outputs": [],
   "source": [
    "import pandas as pd\n",
    "import matplotlib.pyplot as plt\n",
    "from sklearn.model_selection import train_test_split\n",
    "from sklearn.ensemble import RandomForestClassifier\n",
    "from sklearn.metrics import roc_curve, auc\n",
    "import numpy as np\n",
    "from imblearn.over_sampling import SMOTE\n",
    "from imblearn.under_sampling import RandomUnderSampler"
   ]
  },
  {
   "cell_type": "code",
   "execution_count": null,
   "metadata": {},
   "outputs": [],
   "source": [
    "class GenerateROCAUC():\n",
    "    def __init__(self,\n",
    "                 data_path,\n",
    "                 test_size,\n",
    "                 seed):\n",
    "        self.df = pd.read_csv(data_path)\n",
    "        self.test_size = test_size\n",
    "        self.seed = seed\n",
    "    def get_data_Xy(self):\n",
    "        X = self.df.drop(columns='Class')\n",
    "        self.df['Class'].replace(['normal','abnormal'],[0,1], inplace=True)\n",
    "        y = self.df['Class']\n",
    "        return X,y\n",
    "    def train_test_split(self,X,y):\n",
    "        Xtrain, Xtest, ytrain, ytest = train_test_split(X,y,test_size=self.test_size,random_state=self.seed)\n",
    "        return Xtrain, Xtest, ytrain, ytest\n",
    "    def undersampling_balance(self,Xtrain,ytrain):\n",
    "        rus = RandomUnderSampler(random_state=self.seed)\n",
    "        X_res, y_res = rus.fit_resample(Xtrain,ytrain)\n",
    "        return X_res, y_res\n",
    "    def oversampling_balance(self,Xtrain,ytrain):\n",
    "        sm = SMOTE(random_state=self.seed)\n",
    "        X_sm, y_sm = sm.fit_resample(Xtrain,ytrain)\n",
    "        return X_sm, y_sm\n",
    "    def get_fpr_tpr(self, Xtrain, ytrain, Xtest, ytest):\n",
    "        rf = RandomForestClassifier(n_estimators = 100, min_samples_split = 2, n_jobs = -1, verbose = 1,random_state=self.seed)\n",
    "        rf.fit(Xtrain,ytrain)\n",
    "        yproba = rf.predict_proba(Xtest)\n",
    "        fpr, tpr, _ = roc_curve(np.array(ytest),yproba[:,1], pos_label=1)\n",
    "        return fpr, tpr\n",
    "    def get_auc(fpr,tpr):\n",
    "        return (auc(fpr,tpr))"
   ]
  }
 ],
 "metadata": {
  "kernelspec": {
   "display_name": "venv",
   "language": "python",
   "name": "python3"
  },
  "language_info": {
   "name": "python",
   "version": "3.10.8"
  },
  "orig_nbformat": 4
 },
 "nbformat": 4,
 "nbformat_minor": 2
}
